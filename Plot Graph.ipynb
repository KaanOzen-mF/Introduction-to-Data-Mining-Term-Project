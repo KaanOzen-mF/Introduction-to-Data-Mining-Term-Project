{
 "cells": [
  {
   "cell_type": "code",
   "execution_count": null,
   "id": "8165a2f5",
   "metadata": {
    "collapsed": true
   },
   "outputs": [],
   "source": [
    "import ipywidgets as widgets\n",
    "widgets.IntSlider(\n",
    "    min=0,\n",
    "    max=10,\n",
    "    step=1,\n",
    "    description='Slider:',\n",
    "    value=3\n",
    ")"
   ]
  },
  {
   "cell_type": "code",
   "execution_count": null,
   "id": "2bae7176",
   "metadata": {
    "collapsed": true
   },
   "outputs": [],
   "source": [
    "from IPython.display import display\n",
    "slider = widgets.IntSlider()\n",
    "display(slider)"
   ]
  },
  {
   "cell_type": "code",
   "execution_count": null,
   "id": "f858fc93",
   "metadata": {
    "collapsed": true
   },
   "outputs": [],
   "source": [
    "slider = widgets.IntSlider()\n",
    "text = widgets.IntText()\n",
    "display(slider, text)\n",
    "widgets.jslink((slider, 'value'), (text, 'value'))"
   ]
  },
  {
   "cell_type": "code",
   "execution_count": null,
   "id": "84403fbb",
   "metadata": {
    "collapsed": true
   },
   "outputs": [],
   "source": [
    "print(dir(widgets))"
   ]
  },
  {
   "cell_type": "code",
   "execution_count": null,
   "id": "0400eaa9",
   "metadata": {
    "collapsed": true
   },
   "outputs": [],
   "source": [
    "btn = widgets.Button(description='Medium')\n",
    "display(btn)\n",
    "def btn_eventhandler(obj):\n",
    "    print('Hello from the {} button!'.format(obj.description))\n",
    "btn.on_click(btn_eventhandler)"
   ]
  },
  {
   "cell_type": "code",
   "execution_count": null,
   "id": "233271f7",
   "metadata": {
    "collapsed": true
   },
   "outputs": [],
   "source": [
    "import pandas as pd\n",
    "import numpy as np\n",
    "df_london = pd.read_csv(\"international-visitors-london-raw.csv\")"
   ]
  },
  {
   "cell_type": "code",
   "execution_count": null,
   "id": "9e27feda",
   "metadata": {
    "collapsed": true
   },
   "outputs": [],
   "source": [
    "ALL = 'ALL'\n",
    "def unique_sorted_values_plus_ALL(array):\n",
    "    unique = array.unique().tolist()\n",
    "    unique.sort()\n",
    "    unique.insert(0, ALL)\n",
    "    return unique"
   ]
  },
  {
   "cell_type": "code",
   "execution_count": null,
   "id": "9f667daa",
   "metadata": {
    "collapsed": true
   },
   "outputs": [],
   "source": [
    "dropdown_year = widgets.Dropdown(options = unique_sorted_values_plus_ALL(df_london.year))\n",
    "output_year = widgets.Output()\n",
    "def dropdown_year_eventhandler(change):\n",
    "    output_year.clear_output()\n",
    "    with output_year:\n",
    "        if (change.new == ALL):\n",
    "            display(df_london)\n",
    "        else:\n",
    "            display(df_london[df_london.year == change.new])\n",
    "dropdown_year.observe(dropdown_year_eventhandler, names='value')\n",
    "display(dropdown_year)\n",
    "display(output_year)"
   ]
  },
  {
   "cell_type": "code",
   "execution_count": null,
   "id": "b0014b6a",
   "metadata": {
    "collapsed": true
   },
   "outputs": [],
   "source": [
    "import os\n",
    "import numpy as np\n",
    "import pandas as pd\n",
    "import matplotlib.pyplot as plt"
   ]
  },
  {
   "cell_type": "code",
   "execution_count": null,
   "id": "9504e5de",
   "metadata": {
    "collapsed": true
   },
   "outputs": [],
   "source": [
    "overall_stats = pd.read_csv('ml-latest-small/ratings.csv')\n",
    "overall_stats.head()"
   ]
  },
  {
   "cell_type": "code",
   "execution_count": null,
   "id": "c9b7b9b4",
   "metadata": {
    "collapsed": true
   },
   "outputs": [],
   "source": [
    "ALL = 'ALL'\n",
    "def unique_sorted_values_plus_ALL(array):\n",
    "    unique = array.unique().tolist()\n",
    "    unique.sort()\n",
    "    unique.insert(0, ALL)\n",
    "    return unique"
   ]
  },
  {
   "cell_type": "code",
   "execution_count": null,
   "id": "1ac0904a",
   "metadata": {
    "collapsed": true
   },
   "outputs": [],
   "source": [
    "items_dataset = pd.read_csv('ml-latest-small/movies.csv')\n",
    "\n",
    "dropdown_genres = widgets.Dropdown(options = unique_sorted_values_plus_ALL(items_dataset.genres),description = \"Genres:\")\n",
    "output_year = widgets.Output()\n",
    "output_genres = widgets.Output()\n",
    "\n",
    "def dropdown_genres_eventhandler(change):\n",
    "    output_genres.clear_output()\n",
    "    with output_genres:\n",
    "        if (change.new == ALL):\n",
    "            display(items_dataset)\n",
    "        else:\n",
    "            display(items_dataset[items_dataset.genres == change.new])\n",
    "dropdown_genres.observe(dropdown_genres_eventhandler, names='value')\n",
    "display(dropdown_genres)\n",
    "display(output_genres)"
   ]
  },
  {
   "cell_type": "code",
   "execution_count": null,
   "id": "5a9d9178",
   "metadata": {
    "collapsed": true
   },
   "outputs": [],
   "source": [
    "items_dataset"
   ]
  },
  {
   "cell_type": "code",
   "execution_count": null,
   "id": "ff68a44c",
   "metadata": {
    "collapsed": true
   },
   "outputs": [],
   "source": [
    "movie_dataset = items_dataset[['movieId','title']]\n",
    "movie_dataset"
   ]
  },
  {
   "cell_type": "code",
   "execution_count": null,
   "id": "130989fc",
   "metadata": {
    "collapsed": true
   },
   "outputs": [],
   "source": [
    "merged_dataset = pd.merge(overall_stats, movie_dataset, how='inner', on='movieId')\n",
    "merged_dataset.head()"
   ]
  },
  {
   "cell_type": "code",
   "execution_count": null,
   "id": "b2c57993",
   "metadata": {
    "collapsed": true
   },
   "outputs": [],
   "source": [
    "merged_dataset.describe()"
   ]
  },
  {
   "cell_type": "markdown",
   "id": "41b76819",
   "metadata": {},
   "source": [
    "# Data Visualization & Recommendations through Data Analysis for a new user (Content-based & Popularity based Recommender system)"
   ]
  },
  {
   "cell_type": "code",
   "execution_count": 185,
   "id": "07e03625",
   "metadata": {},
   "outputs": [
    {
     "data": {
      "image/png": "[encoded data removed]",
      "text/plain": [
       "<Figure size 720x432 with 1 Axes>"
      ]
     },
     "metadata": {
      "needs_background": "light"
     },
     "output_type": "display_data"
    }
   ],
   "source": [
    "merged_dataset['rating'].value_counts(sort=False).plot(kind='bar' ,figsize=(10,6), use_index = True, rot=0)\n",
    "plt.title('Bar plot of rating frequency')\n",
    "plt.xlabel('Rating')\n",
    "plt.ylabel('Number of times a rating was given')\n",
    "label = list(merged_dataset['rating'].value_counts(sort=False))\n",
    "r4 = [1,2,3,4,5,6,7,8,9,10]\n",
    "for i in range(len(label)):\n",
    "    plt.text(x = r4[i]-1.35 , y = label[i]+120, s = label[i], size =15)"
   ]
  },
  {
   "cell_type": "markdown",
   "id": "b852dd02",
   "metadata": {},
   "source": [
    "We can observe that most of the users have rewarded movies they watched with a 4 star rating and followed by 3 star and 5 star."
   ]
  },
  {
   "cell_type": "code",
   "execution_count": 186,
   "id": "0a8715c8",
   "metadata": {},
   "outputs": [],
   "source": [
    "avg_highly_rated_movies = merged_dataset.groupby(['title']).agg({\"rating\":\"mean\"})['rating'].sort_values(ascending=False)\n",
    "avg_highly_rated_movies = avg_highly_rated_movies.to_frame()"
   ]
  },
  {
   "cell_type": "code",
   "execution_count": 187,
   "id": "2f2297be",
   "metadata": {},
   "outputs": [
    {
     "data": {
      "text/html": [
       "<div>\n",
       "<style scoped>\n",
       "    .dataframe tbody tr th:only-of-type {\n",
       "        vertical-align: middle;\n",
       "    }\n",
       "\n",
       "    .dataframe tbody tr th {\n",
       "        vertical-align: top;\n",
       "    }\n",
       "\n",
       "    .dataframe thead th {\n",
       "        text-align: right;\n",
       "    }\n",
       "</style>\n",
       "<table border=\"1\" class=\"dataframe\">\n",
       "  <thead>\n",
       "    <tr style=\"text-align: right;\">\n",
       "      <th></th>\n",
       "      <th>rating</th>\n",
       "    </tr>\n",
       "    <tr>\n",
       "      <th>title</th>\n",
       "      <th></th>\n",
       "    </tr>\n",
       "  </thead>\n",
       "  <tbody>\n",
       "    <tr>\n",
       "      <th>Gena the Crocodile (1969)</th>\n",
       "      <td>5.0</td>\n",
       "    </tr>\n",
       "    <tr>\n",
       "      <th>True Stories (1986)</th>\n",
       "      <td>5.0</td>\n",
       "    </tr>\n",
       "    <tr>\n",
       "      <th>Cosmic Scrat-tastrophe (2015)</th>\n",
       "      <td>5.0</td>\n",
       "    </tr>\n",
       "    <tr>\n",
       "      <th>Love and Pigeons (1985)</th>\n",
       "      <td>5.0</td>\n",
       "    </tr>\n",
       "    <tr>\n",
       "      <th>Red Sorghum (Hong gao liang) (1987)</th>\n",
       "      <td>5.0</td>\n",
       "    </tr>\n",
       "    <tr>\n",
       "      <th>Thin Line Between Love and Hate, A (1996)</th>\n",
       "      <td>5.0</td>\n",
       "    </tr>\n",
       "    <tr>\n",
       "      <th>Lesson Faust (1994)</th>\n",
       "      <td>5.0</td>\n",
       "    </tr>\n",
       "    <tr>\n",
       "      <th>Eva (2011)</th>\n",
       "      <td>5.0</td>\n",
       "    </tr>\n",
       "    <tr>\n",
       "      <th>Who Killed Chea Vichea? (2010)</th>\n",
       "      <td>5.0</td>\n",
       "    </tr>\n",
       "    <tr>\n",
       "      <th>Siam Sunset (1999)</th>\n",
       "      <td>5.0</td>\n",
       "    </tr>\n",
       "    <tr>\n",
       "      <th>Ex Drummer (2007)</th>\n",
       "      <td>5.0</td>\n",
       "    </tr>\n",
       "    <tr>\n",
       "      <th>Reform School Girls (1986)</th>\n",
       "      <td>5.0</td>\n",
       "    </tr>\n",
       "    <tr>\n",
       "      <th>Buzzard (2015)</th>\n",
       "      <td>5.0</td>\n",
       "    </tr>\n",
       "    <tr>\n",
       "      <th>Hellbenders (2012)</th>\n",
       "      <td>5.0</td>\n",
       "    </tr>\n",
       "    <tr>\n",
       "      <th>Heidi Fleiss: Hollywood Madam (1995)</th>\n",
       "      <td>5.0</td>\n",
       "    </tr>\n",
       "    <tr>\n",
       "      <th>My Left Eye Sees Ghosts (Ngo joh aan gin diy gwai) (2002)</th>\n",
       "      <td>5.0</td>\n",
       "    </tr>\n",
       "    <tr>\n",
       "      <th>Animals are Beautiful People (1974)</th>\n",
       "      <td>5.0</td>\n",
       "    </tr>\n",
       "    <tr>\n",
       "      <th>My Life as McDull (Mak dau goo si) (2001)</th>\n",
       "      <td>5.0</td>\n",
       "    </tr>\n",
       "    <tr>\n",
       "      <th>My Love (2006)</th>\n",
       "      <td>5.0</td>\n",
       "    </tr>\n",
       "    <tr>\n",
       "      <th>My Man Godfrey (1957)</th>\n",
       "      <td>5.0</td>\n",
       "    </tr>\n",
       "  </tbody>\n",
       "</table>\n",
       "</div>"
      ],
      "text/plain": [
       "                                                    rating\n",
       "title                                                     \n",
       "Gena the Crocodile (1969)                              5.0\n",
       "True Stories (1986)                                    5.0\n",
       "Cosmic Scrat-tastrophe (2015)                          5.0\n",
       "Love and Pigeons (1985)                                5.0\n",
       "Red Sorghum (Hong gao liang) (1987)                    5.0\n",
       "Thin Line Between Love and Hate, A (1996)              5.0\n",
       "Lesson Faust (1994)                                    5.0\n",
       "Eva (2011)                                             5.0\n",
       "Who Killed Chea Vichea? (2010)                         5.0\n",
       "Siam Sunset (1999)                                     5.0\n",
       "Ex Drummer (2007)                                      5.0\n",
       "Reform School Girls (1986)                             5.0\n",
       "Buzzard (2015)                                         5.0\n",
       "Hellbenders (2012)                                     5.0\n",
       "Heidi Fleiss: Hollywood Madam (1995)                   5.0\n",
       "My Left Eye Sees Ghosts (Ngo joh aan gin diy gw...     5.0\n",
       "Animals are Beautiful People (1974)                    5.0\n",
       "My Life as McDull (Mak dau goo si) (2001)              5.0\n",
       "My Love (2006)                                         5.0\n",
       "My Man Godfrey (1957)                                  5.0"
      ]
     },
     "execution_count": 187,
     "metadata": {},
     "output_type": "execute_result"
    }
   ],
   "source": [
    "avg_highly_rated_movies.head(20)"
   ]
  },
  {
   "cell_type": "code",
   "execution_count": 188,
   "id": "87d594c8",
   "metadata": {},
   "outputs": [
    {
     "name": "stdout",
     "output_type": "stream",
     "text": [
      "Number of movies with 5 star rating on average:  296\n",
      "Number of movies with above 4 star and below 5 star rating on average:  1972\n",
      "Number of movies with above 3 star and below 4 star rating on average:  4694\n",
      "Number of movies with above 2 star and below 3 star rating on average:  2121\n",
      "Number of movies with above 1 star and below 2 star rating on average:  528\n",
      "Number of movies with below 1 star rating on average:  108\n"
     ]
    }
   ],
   "source": [
    "print(\"Number of movies with 5 star rating on average: \",len(avg_highly_rated_movies[avg_highly_rated_movies['rating'] == 5.0]))\n",
    "print(\"Number of movies with above 4 star and below 5 star rating on average: \",len(avg_highly_rated_movies[(avg_highly_rated_movies['rating'] >= 4.0) & (avg_highly_rated_movies['rating'] < 5.0)]))\n",
    "print(\"Number of movies with above 3 star and below 4 star rating on average: \",len(avg_highly_rated_movies[(avg_highly_rated_movies['rating'] >= 3.0) & (avg_highly_rated_movies['rating'] < 4.0)]))\n",
    "print(\"Number of movies with above 2 star and below 3 star rating on average: \",len(avg_highly_rated_movies[(avg_highly_rated_movies['rating'] >= 2.0) & (avg_highly_rated_movies['rating'] < 3.0)]))\n",
    "print(\"Number of movies with above 1 star and below 2 star rating on average: \",len(avg_highly_rated_movies[(avg_highly_rated_movies['rating'] >= 1.0) & (avg_highly_rated_movies['rating'] < 2.0)]))\n",
    "print(\"Number of movies with below 1 star rating on average: \", len(avg_highly_rated_movies[(avg_highly_rated_movies['rating'] < 1.0)]))"
   ]
  },
  {
   "cell_type": "code",
   "execution_count": 189,
   "id": "c7b550b0",
   "metadata": {},
   "outputs": [
    {
     "name": "stdout",
     "output_type": "stream",
     "text": [
      "Split of movies count based on their overall average rating\n"
     ]
    },
    {
     "data": {
      "image/png": "[encoded data removed]",
      "text/plain": [
       "<Figure size 432x288 with 1 Axes>"
      ]
     },
     "metadata": {},
     "output_type": "display_data"
    }
   ],
   "source": [
    "import matplotlib.pyplot as plt\n",
    "print('Split of movies count based on their overall average rating')\n",
    "# Pie chart, where the slices will be ordered and plotted counter-clockwise:\n",
    "labels = '5 star', '4 to 5 star', '3 to 4 star', '2 to 3 star', '1 to 2 star'\n",
    "sizes = [100, 253, 961, 582, 218]\n",
    "# explode = (0, 0.1, 0, 0)  # only \"explode\" the 2nd slice (i.e. 'Hogs')\n",
    "\n",
    "fig1, ax1 = plt.subplots()\n",
    "ax1.pie(sizes, labels=labels, autopct='%1.1f%%',\n",
    "        shadow=True, startangle=90)\n",
    "ax1.axis('equal')  # Equal aspect ratio ensures that pie is drawn as a circle.\n",
    "\n",
    "plt.show()"
   ]
  },
  {
   "cell_type": "code",
   "execution_count": 190,
   "id": "a1967818",
   "metadata": {},
   "outputs": [],
   "source": [
    "avg_highly_rated_movies.reset_index(level=0, inplace=True)"
   ]
  },
  {
   "cell_type": "code",
   "execution_count": 191,
   "id": "7ded48ac",
   "metadata": {},
   "outputs": [
    {
     "data": {
      "text/html": [
       "<div>\n",
       "<style scoped>\n",
       "    .dataframe tbody tr th:only-of-type {\n",
       "        vertical-align: middle;\n",
       "    }\n",
       "\n",
       "    .dataframe tbody tr th {\n",
       "        vertical-align: top;\n",
       "    }\n",
       "\n",
       "    .dataframe thead th {\n",
       "        text-align: right;\n",
       "    }\n",
       "</style>\n",
       "<table border=\"1\" class=\"dataframe\">\n",
       "  <thead>\n",
       "    <tr style=\"text-align: right;\">\n",
       "      <th></th>\n",
       "      <th>title</th>\n",
       "      <th>avg rating</th>\n",
       "    </tr>\n",
       "  </thead>\n",
       "  <tbody>\n",
       "    <tr>\n",
       "      <th>0</th>\n",
       "      <td>Gena the Crocodile (1969)</td>\n",
       "      <td>5.0</td>\n",
       "    </tr>\n",
       "    <tr>\n",
       "      <th>1</th>\n",
       "      <td>True Stories (1986)</td>\n",
       "      <td>5.0</td>\n",
       "    </tr>\n",
       "    <tr>\n",
       "      <th>2</th>\n",
       "      <td>Cosmic Scrat-tastrophe (2015)</td>\n",
       "      <td>5.0</td>\n",
       "    </tr>\n",
       "    <tr>\n",
       "      <th>3</th>\n",
       "      <td>Love and Pigeons (1985)</td>\n",
       "      <td>5.0</td>\n",
       "    </tr>\n",
       "    <tr>\n",
       "      <th>4</th>\n",
       "      <td>Red Sorghum (Hong gao liang) (1987)</td>\n",
       "      <td>5.0</td>\n",
       "    </tr>\n",
       "    <tr>\n",
       "      <th>5</th>\n",
       "      <td>Thin Line Between Love and Hate, A (1996)</td>\n",
       "      <td>5.0</td>\n",
       "    </tr>\n",
       "    <tr>\n",
       "      <th>6</th>\n",
       "      <td>Lesson Faust (1994)</td>\n",
       "      <td>5.0</td>\n",
       "    </tr>\n",
       "    <tr>\n",
       "      <th>7</th>\n",
       "      <td>Eva (2011)</td>\n",
       "      <td>5.0</td>\n",
       "    </tr>\n",
       "    <tr>\n",
       "      <th>8</th>\n",
       "      <td>Who Killed Chea Vichea? (2010)</td>\n",
       "      <td>5.0</td>\n",
       "    </tr>\n",
       "    <tr>\n",
       "      <th>9</th>\n",
       "      <td>Siam Sunset (1999)</td>\n",
       "      <td>5.0</td>\n",
       "    </tr>\n",
       "  </tbody>\n",
       "</table>\n",
       "</div>"
      ],
      "text/plain": [
       "                                       title  avg rating\n",
       "0                  Gena the Crocodile (1969)         5.0\n",
       "1                        True Stories (1986)         5.0\n",
       "2              Cosmic Scrat-tastrophe (2015)         5.0\n",
       "3                    Love and Pigeons (1985)         5.0\n",
       "4        Red Sorghum (Hong gao liang) (1987)         5.0\n",
       "5  Thin Line Between Love and Hate, A (1996)         5.0\n",
       "6                        Lesson Faust (1994)         5.0\n",
       "7                                 Eva (2011)         5.0\n",
       "8             Who Killed Chea Vichea? (2010)         5.0\n",
       "9                         Siam Sunset (1999)         5.0"
      ]
     },
     "execution_count": 191,
     "metadata": {},
     "output_type": "execute_result"
    }
   ],
   "source": [
    "avg_highly_rated_movies.columns = ['title', 'avg rating']\n",
    "\n",
    "avg_highly_rated_movies.head(10)"
   ]
  },
  {
   "cell_type": "markdown",
   "id": "ae2f514d",
   "metadata": {},
   "source": [
    "These are the top 10 movies that can be naviely suggested to the new users, Recommendations based on top average ratings."
   ]
  },
  {
   "cell_type": "code",
   "execution_count": 192,
   "id": "a3f8e4bd",
   "metadata": {},
   "outputs": [
    {
     "data": {
      "text/plain": [
       "title\n",
       "Shawshank Redemption, The (1994)    1404.0\n",
       "Forrest Gump (1994)                 1370.0\n",
       "Pulp Fiction (1994)                 1288.5\n",
       "Matrix, The (1999)                  1165.5\n",
       "Silence of the Lambs, The (1991)    1161.0\n",
       "                                     ...  \n",
       "Uncle Nino (2003)                      0.5\n",
       "Legionnaire (1998)                     0.5\n",
       "Ring of Terror (1962)                  0.5\n",
       "Glitter (2001)                         0.5\n",
       "Begotten (1990)                        0.5\n",
       "Name: rating, Length: 9719, dtype: float64"
      ]
     },
     "execution_count": 192,
     "metadata": {},
     "output_type": "execute_result"
    }
   ],
   "source": [
    "merged_dataset.groupby(['title']).agg({\"rating\":\"sum\"})['rating'].sort_values(ascending=False)"
   ]
  },
  {
   "cell_type": "code",
   "execution_count": 193,
   "id": "6bba85d6",
   "metadata": {},
   "outputs": [],
   "source": [
    "popular_movies = merged_dataset.groupby(['title']).agg({\"rating\":\"count\"})['rating'].sort_values(ascending=False)"
   ]
  },
  {
   "cell_type": "code",
   "execution_count": 194,
   "id": "4bc5bd78",
   "metadata": {},
   "outputs": [],
   "source": [
    "popular_movies = popular_movies.to_frame()\n",
    "popular_movies.reset_index(level=0, inplace=True)\n",
    "popular_movies.columns = ['Movie title', 'Number of Users watched']"
   ]
  },
  {
   "cell_type": "code",
   "execution_count": 195,
   "id": "c2903948",
   "metadata": {},
   "outputs": [
    {
     "name": "stdout",
     "output_type": "stream",
     "text": [
      "Number of popular movies with more than 300 and less than 400 viewers:  3\n",
      "Number of popular movies with more than 200 and less than 300 viewers:  16\n",
      "Number of popular movies with more than 100 and less than 200 viewers:  119\n",
      "Number of popular movies with less than 100 viewers:  9581\n"
     ]
    }
   ],
   "source": [
    "print(\"Number of popular movies with more than 300 and less than 400 viewers: \",len(popular_movies[(popular_movies['Number of Users watched'] >= 300) & (popular_movies['Number of Users watched'] < 400)]))\n",
    "print(\"Number of popular movies with more than 200 and less than 300 viewers: \",len(popular_movies[(popular_movies['Number of Users watched'] >= 200) & (popular_movies['Number of Users watched'] < 300)]))\n",
    "print(\"Number of popular movies with more than 100 and less than 200 viewers: \",len(popular_movies[(popular_movies['Number of Users watched'] >= 100) & (popular_movies['Number of Users watched'] < 200)]))\n",
    "print(\"Number of popular movies with less than 100 viewers: \", len(popular_movies[(popular_movies['Number of Users watched'] < 100)]))"
   ]
  },
  {
   "cell_type": "code",
   "execution_count": 196,
   "id": "6a923bc8",
   "metadata": {},
   "outputs": [
    {
     "data": {
      "image/png": "[encoded data removed]",
      "text/plain": [
       "<Figure size 360x360 with 1 Axes>"
      ]
     },
     "metadata": {},
     "output_type": "display_data"
    }
   ],
   "source": [
    "df = pd.DataFrame({'viewers': [42, 104, 240, 1346]},\n",
    "                  index=['300 to 400 viewers', '200 to 300 viewers', '100 to 200 viewers', 'less than 100 viewers'])\n",
    "plot = df.plot.pie(y='viewers', figsize=(5, 5))"
   ]
  },
  {
   "cell_type": "code",
   "execution_count": 197,
   "id": "4c12d00d",
   "metadata": {},
   "outputs": [
    {
     "data": {
      "text/html": [
       "<div>\n",
       "<style scoped>\n",
       "    .dataframe tbody tr th:only-of-type {\n",
       "        vertical-align: middle;\n",
       "    }\n",
       "\n",
       "    .dataframe tbody tr th {\n",
       "        vertical-align: top;\n",
       "    }\n",
       "\n",
       "    .dataframe thead th {\n",
       "        text-align: right;\n",
       "    }\n",
       "</style>\n",
       "<table border=\"1\" class=\"dataframe\">\n",
       "  <thead>\n",
       "    <tr style=\"text-align: right;\">\n",
       "      <th></th>\n",
       "      <th>Movie title</th>\n",
       "      <th>Number of Users watched</th>\n",
       "    </tr>\n",
       "  </thead>\n",
       "  <tbody>\n",
       "    <tr>\n",
       "      <th>0</th>\n",
       "      <td>Forrest Gump (1994)</td>\n",
       "      <td>329</td>\n",
       "    </tr>\n",
       "    <tr>\n",
       "      <th>1</th>\n",
       "      <td>Shawshank Redemption, The (1994)</td>\n",
       "      <td>317</td>\n",
       "    </tr>\n",
       "    <tr>\n",
       "      <th>2</th>\n",
       "      <td>Pulp Fiction (1994)</td>\n",
       "      <td>307</td>\n",
       "    </tr>\n",
       "    <tr>\n",
       "      <th>3</th>\n",
       "      <td>Silence of the Lambs, The (1991)</td>\n",
       "      <td>279</td>\n",
       "    </tr>\n",
       "    <tr>\n",
       "      <th>4</th>\n",
       "      <td>Matrix, The (1999)</td>\n",
       "      <td>278</td>\n",
       "    </tr>\n",
       "    <tr>\n",
       "      <th>5</th>\n",
       "      <td>Star Wars: Episode IV - A New Hope (1977)</td>\n",
       "      <td>251</td>\n",
       "    </tr>\n",
       "    <tr>\n",
       "      <th>6</th>\n",
       "      <td>Jurassic Park (1993)</td>\n",
       "      <td>238</td>\n",
       "    </tr>\n",
       "    <tr>\n",
       "      <th>7</th>\n",
       "      <td>Braveheart (1995)</td>\n",
       "      <td>237</td>\n",
       "    </tr>\n",
       "    <tr>\n",
       "      <th>8</th>\n",
       "      <td>Terminator 2: Judgment Day (1991)</td>\n",
       "      <td>224</td>\n",
       "    </tr>\n",
       "    <tr>\n",
       "      <th>9</th>\n",
       "      <td>Schindler's List (1993)</td>\n",
       "      <td>220</td>\n",
       "    </tr>\n",
       "    <tr>\n",
       "      <th>10</th>\n",
       "      <td>Fight Club (1999)</td>\n",
       "      <td>218</td>\n",
       "    </tr>\n",
       "    <tr>\n",
       "      <th>11</th>\n",
       "      <td>Toy Story (1995)</td>\n",
       "      <td>215</td>\n",
       "    </tr>\n",
       "    <tr>\n",
       "      <th>12</th>\n",
       "      <td>Star Wars: Episode V - The Empire Strikes Back...</td>\n",
       "      <td>211</td>\n",
       "    </tr>\n",
       "    <tr>\n",
       "      <th>13</th>\n",
       "      <td>Usual Suspects, The (1995)</td>\n",
       "      <td>204</td>\n",
       "    </tr>\n",
       "    <tr>\n",
       "      <th>14</th>\n",
       "      <td>American Beauty (1999)</td>\n",
       "      <td>204</td>\n",
       "    </tr>\n",
       "    <tr>\n",
       "      <th>15</th>\n",
       "      <td>Seven (a.k.a. Se7en) (1995)</td>\n",
       "      <td>203</td>\n",
       "    </tr>\n",
       "    <tr>\n",
       "      <th>16</th>\n",
       "      <td>Independence Day (a.k.a. ID4) (1996)</td>\n",
       "      <td>202</td>\n",
       "    </tr>\n",
       "    <tr>\n",
       "      <th>17</th>\n",
       "      <td>Apollo 13 (1995)</td>\n",
       "      <td>201</td>\n",
       "    </tr>\n",
       "    <tr>\n",
       "      <th>18</th>\n",
       "      <td>Raiders of the Lost Ark (Indiana Jones and the...</td>\n",
       "      <td>200</td>\n",
       "    </tr>\n",
       "  </tbody>\n",
       "</table>\n",
       "</div>"
      ],
      "text/plain": [
       "                                          Movie title  Number of Users watched\n",
       "0                                 Forrest Gump (1994)                      329\n",
       "1                    Shawshank Redemption, The (1994)                      317\n",
       "2                                 Pulp Fiction (1994)                      307\n",
       "3                    Silence of the Lambs, The (1991)                      279\n",
       "4                                  Matrix, The (1999)                      278\n",
       "5           Star Wars: Episode IV - A New Hope (1977)                      251\n",
       "6                                Jurassic Park (1993)                      238\n",
       "7                                   Braveheart (1995)                      237\n",
       "8                   Terminator 2: Judgment Day (1991)                      224\n",
       "9                             Schindler's List (1993)                      220\n",
       "10                                  Fight Club (1999)                      218\n",
       "11                                   Toy Story (1995)                      215\n",
       "12  Star Wars: Episode V - The Empire Strikes Back...                      211\n",
       "13                         Usual Suspects, The (1995)                      204\n",
       "14                             American Beauty (1999)                      204\n",
       "15                        Seven (a.k.a. Se7en) (1995)                      203\n",
       "16               Independence Day (a.k.a. ID4) (1996)                      202\n",
       "17                                   Apollo 13 (1995)                      201\n",
       "18  Raiders of the Lost Ark (Indiana Jones and the...                      200"
      ]
     },
     "execution_count": 197,
     "metadata": {},
     "output_type": "execute_result"
    }
   ],
   "source": [
    "popular_movies[popular_movies['Number of Users watched'] >= 200]"
   ]
  },
  {
   "cell_type": "code",
   "execution_count": null,
   "id": "5abf92d9",
   "metadata": {},
   "outputs": [],
   "source": []
  }
 ],
 "metadata": {
  "kernelspec": {
   "display_name": "Python 3",
   "language": "python",
   "name": "python3"
  },
  "language_info": {
   "codemirror_mode": {
    "name": "ipython",
    "version": 3
   },
   "file_extension": ".py",
   "mimetype": "text/x-python",
   "name": "python",
   "nbconvert_exporter": "python",
   "pygments_lexer": "ipython3",
   "version": "3.8.8"
  }
 },
 "nbformat": 4,
 "nbformat_minor": 5
}
